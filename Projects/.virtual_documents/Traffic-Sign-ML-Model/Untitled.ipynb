!mkdir ~/.kaggle
!touch ~/.kaggle/kaggle.json







%%bash 
mkdir ~/.kaggle
cp kaggle.json ~/.kaggle/kaggle.json
chmod 600 ~/.kaggle/kaggle.json
pip install kaggle
kaggle datasets download -d andrewmvd/road-sign-detection
unzip road-sign-detection.zip -d data
mv ./data/annotations ./data/labels



